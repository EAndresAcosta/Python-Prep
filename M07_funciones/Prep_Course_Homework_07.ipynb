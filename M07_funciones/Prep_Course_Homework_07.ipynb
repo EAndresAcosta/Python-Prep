{
 "cells": [
  {
   "attachments": {},
   "cell_type": "markdown",
   "metadata": {},
   "source": [
    "## Funciones"
   ]
  },
  {
   "attachments": {},
   "cell_type": "markdown",
   "metadata": {},
   "source": [
    "1) Crear una función que reciba un número como parámetro y devuelva True si es primo y False si no lo es"
   ]
  },
  {
   "cell_type": "code",
   "execution_count": 54,
   "metadata": {},
   "outputs": [
    {
     "name": "stdout",
     "output_type": "stream",
     "text": [
      "True\n"
     ]
    }
   ],
   "source": [
    "def es_primo(numero):\n",
    "    num_primo = True\n",
    "    if numero <= 1:\n",
    "            return False\n",
    "    for divisor in range(2, int(numero ** 1/2) + 1):\n",
    "            if numero % divisor == 0:\n",
    "                num_primo = False\n",
    "                break\n",
    "    if num_primo:\n",
    "        return num_primo\n",
    "\n",
    "nro = es_primo(29)\n",
    "print(nro)"
   ]
  },
  {
   "attachments": {},
   "cell_type": "markdown",
   "metadata": {},
   "source": [
    "2.Utilizando la función del punto 1, realizar otra función que reciba de parámetro una lista de números y devuelva sólo aquellos que son primos en otra lista"
   ]
  },
  {
   "cell_type": "code",
   "execution_count": 28,
   "metadata": {},
   "outputs": [],
   "source": [
    "def nros_primos(lista):\n",
    "    lista_nros_primos = []\n",
    "    for elemento in lista:\n",
    "        if es_primo(int(elemento)):\n",
    "            lista_nros_primos.append(int(elemento))\n",
    "    return lista_nros_primos    "
   ]
  },
  {
   "cell_type": "code",
   "execution_count": 56,
   "metadata": {},
   "outputs": [
    {
     "name": "stdout",
     "output_type": "stream",
     "text": [
      "[2, 3, 5, 7, 11, 13, 17, 19]\n"
     ]
    }
   ],
   "source": [
    "lista_completa = list(range(1,20))\n",
    "lista_primos = nros_primos(lista_completa)\n",
    "print(lista_primos)"
   ]
  },
  {
   "attachments": {},
   "cell_type": "markdown",
   "metadata": {},
   "source": [
    "3) Crear una función que al recibir una lista de números, devuelva el que más se repite y cuántas veces lo hace. Si hay más de un \"más repetido\", que devuelva cualquiera"
   ]
  },
  {
   "cell_type": "code",
   "execution_count": 30,
   "metadata": {},
   "outputs": [],
   "source": [
    "def repeated(lista):\n",
    "    mas_repetido = []\n",
    "    numero_repeticiones = []\n",
    "    for numero in lista:\n",
    "        if numero in mas_repetido:\n",
    "            i = mas_repetido.index(numero)\n",
    "            numero_repeticiones[i] += 1\n",
    "        else:\n",
    "            mas_repetido.append(numero)\n",
    "            numero_repeticiones.append(1)\n",
    "    repet = mas_repetido[0]\n",
    "    cantidad = numero_repeticiones[0]\n",
    "    for i, numero in enumerate(mas_repetido):\n",
    "        if numero_repeticiones[i] > cantidad:\n",
    "            repet = mas_repetido[i]\n",
    "            cantidad = numero_repeticiones[i]\n",
    "    return repet, cantidad"
   ]
  },
  {
   "cell_type": "code",
   "execution_count": 31,
   "metadata": {},
   "outputs": [],
   "source": [
    "lis = [1,2,5,8,6,9,4,9,7,9,3,6,9]"
   ]
  },
  {
   "cell_type": "code",
   "execution_count": 32,
   "metadata": {},
   "outputs": [
    {
     "data": {
      "text/plain": [
       "(9, 4)"
      ]
     },
     "execution_count": 32,
     "metadata": {},
     "output_type": "execute_result"
    }
   ],
   "source": [
    "repeated(lis)"
   ]
  },
  {
   "cell_type": "code",
   "execution_count": 57,
   "metadata": {},
   "outputs": [
    {
     "data": {
      "text/plain": [
       "Counter({3: 4, 1: 2, 2: 2})"
      ]
     },
     "execution_count": 57,
     "metadata": {},
     "output_type": "execute_result"
    }
   ],
   "source": [
    "from collections import Counter\n",
    "lista_prueba = [1,2,3,3,1,3,2,3]\n",
    "dicc_prueba = Counter(lista_prueba)\n",
    "dicc_prueba"
   ]
  },
  {
   "cell_type": "code",
   "execution_count": 58,
   "metadata": {},
   "outputs": [
    {
     "data": {
      "text/plain": [
       "4"
      ]
     },
     "execution_count": 58,
     "metadata": {},
     "output_type": "execute_result"
    }
   ],
   "source": [
    "dicc_prueba.get(3)"
   ]
  },
  {
   "cell_type": "code",
   "execution_count": 61,
   "metadata": {},
   "outputs": [],
   "source": [
    "def calcular_moda(lista):\n",
    "    conteo = Counter(lista)\n",
    "    llave = max(conteo, key = conteo.get)\n",
    "    valor = conteo[llave]\n",
    "\n",
    "    return llave, valor"
   ]
  },
  {
   "cell_type": "code",
   "execution_count": 63,
   "metadata": {},
   "outputs": [
    {
     "name": "stdout",
     "output_type": "stream",
     "text": [
      "El numero 9 es el que mas se repite, 7 veces\n"
     ]
    }
   ],
   "source": [
    "lista_numeros = [1,2,5,6,8,4,2,9,5,4,7,9,3,8,4,1,9,2,9,1,5,9,3,9,3,9]\n",
    "numero, repeticiones = calcular_moda(lista_numeros)\n",
    "print(f\"El numero {numero} es el que mas se repite, {repeticiones} veces\")"
   ]
  },
  {
   "attachments": {},
   "cell_type": "markdown",
   "metadata": {},
   "source": [
    "4) Crear una función que convierta entre grados Celsius, Farenheit y Kelvin<br>\n",
    "Fórmula 1\t: (°C × 9/5) + 32 = °F<br>\n",
    "Fórmula 2\t: °C + 273.15 = °K<br>\n",
    "Debe recibir 3 parámetros: el valor, la medida de orígen y la medida de destino\n"
   ]
  },
  {
   "cell_type": "code",
   "execution_count": 67,
   "metadata": {},
   "outputs": [],
   "source": [
    "def convertir_grados(valor, origen, destino):\n",
    "    if origen == \"celcius\":\n",
    "        if destino == \"celcius\":\n",
    "            valor_destino = valor\n",
    "        elif destino == \"farenheit\":\n",
    "            valor_destino = (valor * (9/5)) + 32\n",
    "        elif destino == \"kelvin\":\n",
    "            valor_destino = valor + 273.15\n",
    "        else:\n",
    "            print(\"Debe pasar un destino correcto\")\n",
    "    \n",
    "    elif origen == \"farenheit\":\n",
    "        if destino == \"celcius\":\n",
    "            valor_destino = (valor - 32) * 5 / 9\n",
    "        elif destino == \"farenheit\":\n",
    "            valor_destino = valor\n",
    "        elif destino == \"kelvin\":\n",
    "            valor_destino = ((valor - 32) * 5 / 9) + 273.15\n",
    "        else:\n",
    "            print(\"Debe pasar un destino correcto\")\n",
    "    \n",
    "    elif origen == \"kelvin\":\n",
    "        if destino == \"celcius\":\n",
    "            valor_destino = valor - 273.15\n",
    "        elif destino == \"farenheit\":\n",
    "            valor_destino = ((valor - 273.15) * 9 / 5) + 32\n",
    "        elif destino == \"kelvin\":\n",
    "            valor_destino = valor\n",
    "        else:\n",
    "            print(\"Debe pasar un destino correcto\")\n",
    "    \n",
    "    else:\n",
    "        print(\"Debe pasar un destino correcto\")\n",
    "\n",
    "    return valor_destino\n"
   ]
  },
  {
   "cell_type": "code",
   "execution_count": 68,
   "metadata": {},
   "outputs": [
    {
     "data": {
      "text/plain": [
       "274.15"
      ]
     },
     "execution_count": 68,
     "metadata": {},
     "output_type": "execute_result"
    }
   ],
   "source": [
    "convertir_grados(1, 'celcius', 'kelvin')"
   ]
  },
  {
   "attachments": {},
   "cell_type": "markdown",
   "metadata": {},
   "source": [
    "5) Iterando una lista con los tres valores posibles de temperatura que recibe la función del punto 5, hacer un print para cada combinación de los mismos:"
   ]
  },
  {
   "cell_type": "code",
   "execution_count": 69,
   "metadata": {},
   "outputs": [
    {
     "name": "stdout",
     "output_type": "stream",
     "text": [
      "1 grado de celcius a celcius es igual a 1\n",
      "1 grado de celcius a kelvin es igual a 274.15\n",
      "1 grado de celcius a farenheit es igual a 33.8\n",
      "1 grado de kelvin a celcius es igual a -272.15\n",
      "1 grado de kelvin a kelvin es igual a 1\n",
      "1 grado de kelvin a farenheit es igual a -457.87\n",
      "1 grado de farenheit a celcius es igual a -17.22222222222222\n",
      "1 grado de farenheit a kelvin es igual a 255.92777777777775\n",
      "1 grado de farenheit a farenheit es igual a 1\n"
     ]
    }
   ],
   "source": [
    "metricas = ['celcius', 'kelvin', 'farenheit']\n",
    "for i in range(len(metricas)):\n",
    "    for j in range(len(metricas)):\n",
    "        print(f'1 grado de {metricas[i]} a {metricas[j]} es igual a {convertir_grados(1, metricas[i], metricas[j])}')"
   ]
  },
  {
   "attachments": {},
   "cell_type": "markdown",
   "metadata": {},
   "source": [
    "6) Armar una función que devuelva el factorial de un número. Tener en cuenta que el usuario puede equivocarse y enviar de parámetro un número no entero o negativo"
   ]
  },
  {
   "cell_type": "code",
   "execution_count": 74,
   "metadata": {},
   "outputs": [],
   "source": [
    "def factorial(numero):\n",
    "    if type(numero) != int:\n",
    "        return(\"Debe ingresar un numero entero\")\n",
    "    if numero < 0:\n",
    "        return(\"El numero debe ser positivo\")\n",
    "    if numero <= 1:\n",
    "        return 1\n",
    "    numero = numero * factorial(numero - 1)\n",
    "    return numero"
   ]
  },
  {
   "cell_type": "code",
   "execution_count": 75,
   "metadata": {},
   "outputs": [
    {
     "name": "stdout",
     "output_type": "stream",
     "text": [
      "120, El numero debe ser positivo, 1, Debe ingresar un numero entero\n"
     ]
    }
   ],
   "source": [
    "print(f'{factorial(5)}, {factorial(-4)}, {factorial(1)}, {factorial(2.3)}')"
   ]
  }
 ],
 "metadata": {
  "interpreter": {
   "hash": "c85384e4cb51c8b72350f3a8712cc8351fdc3955e32a27f9b60c6242ab125f01"
  },
  "kernelspec": {
   "display_name": "Python 3 (ipykernel)",
   "language": "python",
   "name": "python3"
  },
  "language_info": {
   "codemirror_mode": {
    "name": "ipython",
    "version": 3
   },
   "file_extension": ".py",
   "mimetype": "text/x-python",
   "name": "python",
   "nbconvert_exporter": "python",
   "pygments_lexer": "ipython3",
   "version": "3.11.6"
  }
 },
 "nbformat": 4,
 "nbformat_minor": 4
}
