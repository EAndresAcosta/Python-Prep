{
 "cells": [
  {
   "attachments": {},
   "cell_type": "markdown",
   "metadata": {},
   "source": [
    "## Flujos de Control"
   ]
  },
  {
   "attachments": {},
   "cell_type": "markdown",
   "metadata": {},
   "source": [
    "1) Crear una variable que contenga un elemento del conjunto de números enteros y luego imprimir por pantalla si es mayor o menor a cero"
   ]
  },
  {
   "cell_type": "code",
   "execution_count": 14,
   "metadata": {},
   "outputs": [
    {
     "name": "stdout",
     "output_type": "stream",
     "text": [
      "1 Es mayor a cero\n",
      "2 Es mayor a cero\n",
      "3 Es mayor a cero\n",
      "4 Es mayor a cero\n",
      "5 Es mayor a cero\n"
     ]
    }
   ],
   "source": [
    "num = [1, 2, 3, 4, 5]\n",
    "for i in num:\n",
    "    if i > 0:\n",
    "        print(i, \"Es mayor a cero\")\n",
    "    else:\n",
    "        print(i, \"Es menor a cero\")"
   ]
  },
  {
   "attachments": {},
   "cell_type": "markdown",
   "metadata": {},
   "source": [
    "2) Crear dos variables y un condicional que informe si son del mismo tipo de dato"
   ]
  },
  {
   "cell_type": "code",
   "execution_count": 15,
   "metadata": {},
   "outputs": [
    {
     "name": "stdout",
     "output_type": "stream",
     "text": [
      "No son el mismo tipo de dato\n"
     ]
    }
   ],
   "source": [
    "num = 2\n",
    "var = \"2\"\n",
    "if num == var:\n",
    "    print(\"Son el mismo tipo de dato\")\n",
    "else:\n",
    "    print(\"No son el mismo tipo de dato\")"
   ]
  },
  {
   "attachments": {},
   "cell_type": "markdown",
   "metadata": {},
   "source": [
    "3) Para los valores enteros del 1 al 20, imprimir por pantalla si es par o impar"
   ]
  },
  {
   "cell_type": "code",
   "execution_count": 22,
   "metadata": {},
   "outputs": [
    {
     "name": "stdout",
     "output_type": "stream",
     "text": [
      "2 Es entero\n",
      "3 No es entero\n",
      "4 Es entero\n",
      "7 No es entero\n",
      "8 Es entero\n",
      "9 No es entero\n",
      "10 Es entero\n",
      "17 No es entero\n",
      "18 Es entero\n",
      "20 Es entero\n"
     ]
    }
   ],
   "source": [
    "enteros = [2, 3, 4, 7, 8, 9, 10, 17, 18, 20]\n",
    "for i in enteros:\n",
    "    if i % 2 == 0:\n",
    "        print(i, \"Es entero\")\n",
    "    else:\n",
    "        print(i, \"No es entero\")"
   ]
  },
  {
   "attachments": {},
   "cell_type": "markdown",
   "metadata": {},
   "source": [
    "4) En un ciclo for mostrar para los valores entre 0 y 5 el resultado de elevarlo a la potencia igual a 3"
   ]
  },
  {
   "cell_type": "code",
   "execution_count": 27,
   "metadata": {},
   "outputs": [
    {
     "name": "stdout",
     "output_type": "stream",
     "text": [
      "Valor 0 elevado a la 3ra potencia 0\n",
      "Valor 1 elevado a la 3ra potencia 1\n",
      "Valor 2 elevado a la 3ra potencia 8\n",
      "Valor 3 elevado a la 3ra potencia 27\n",
      "Valor 4 elevado a la 3ra potencia 64\n",
      "Valor 5 elevado a la 3ra potencia 125\n"
     ]
    }
   ],
   "source": [
    "for i in range(0, 6):\n",
    "    print(\"Valor\", str(i), \"elevado a la 3ra potencia\", str(i ** 3))"
   ]
  },
  {
   "attachments": {},
   "cell_type": "markdown",
   "metadata": {},
   "source": [
    "5) Crear una variable que contenga un número entero y realizar un ciclo for la misma cantidad de ciclos"
   ]
  },
  {
   "cell_type": "code",
   "execution_count": 24,
   "metadata": {},
   "outputs": [
    {
     "name": "stdout",
     "output_type": "stream",
     "text": [
      "0\n",
      "1\n",
      "2\n"
     ]
    }
   ],
   "source": [
    "ciclo = 3\n",
    "for i in range(0, ciclo):\n",
    "    ciclo == 3\n",
    "    print(i)"
   ]
  },
  {
   "attachments": {},
   "cell_type": "markdown",
   "metadata": {},
   "source": [
    "6) Utilizar un ciclo while para realizar el factorial de un número guardado en una variable, sólo si la variable contiene un número entero mayor a 0"
   ]
  },
  {
   "cell_type": "code",
   "execution_count": 36,
   "metadata": {},
   "outputs": [
    {
     "name": "stdout",
     "output_type": "stream",
     "text": [
      "El factorial es 5040\n"
     ]
    }
   ],
   "source": [
    "n = 7\n",
    "if type(n) == int and n > 0:\n",
    "    factorial = 1\n",
    "    while n > 0:\n",
    "        factorial *= n\n",
    "        n -= 1\n",
    "    print(\"El factorial es\", factorial)\n",
    "else:\n",
    "    print(None)"
   ]
  },
  {
   "attachments": {},
   "cell_type": "markdown",
   "metadata": {},
   "source": [
    "7) Crear un ciclo for dentro de un ciclo while"
   ]
  },
  {
   "cell_type": "code",
   "execution_count": 38,
   "metadata": {},
   "outputs": [
    {
     "name": "stdout",
     "output_type": "stream",
     "text": [
      "Ciclo while #1\n",
      "Ciclo for #1\n",
      "Ciclo while #2\n",
      "Ciclo for #1\n",
      "Ciclo for #2\n",
      "Ciclo while #3\n",
      "Ciclo for #1\n",
      "Ciclo for #2\n",
      "Ciclo for #3\n",
      "Ciclo while #4\n",
      "Ciclo for #1\n",
      "Ciclo for #2\n",
      "Ciclo for #3\n",
      "Ciclo for #4\n"
     ]
    }
   ],
   "source": [
    "num = 1\n",
    "while num < 5:\n",
    "    print(\"Ciclo while #\" + str(num))\n",
    "    for i in range(1, num+1):\n",
    "        print(\"Ciclo for #\" + str(i))\n",
    "    num += 1"
   ]
  },
  {
   "attachments": {},
   "cell_type": "markdown",
   "metadata": {},
   "source": [
    "8) Crear un ciclo while dentro de un ciclo for"
   ]
  },
  {
   "cell_type": "code",
   "execution_count": 2,
   "metadata": {},
   "outputs": [
    {
     "name": "stdout",
     "output_type": "stream",
     "text": [
      "Ciclo for 1\n",
      "Ciclo while 5\n",
      "Ciclo for 2\n",
      "Ciclo while 4\n",
      "Ciclo for 3\n",
      "Ciclo while 3\n",
      "Ciclo for 4\n",
      "Ciclo while 2\n"
     ]
    }
   ],
   "source": [
    "n = 5\n",
    "for i in range(1, n):\n",
    "    print(\"Ciclo for \" + str(i))\n",
    "    var = n\n",
    "    while (var > 0):\n",
    "        print(\"Ciclo while \" + str(n))\n",
    "        n -= 1\n",
    "        if var >= 0:\n",
    "            break"
   ]
  },
  {
   "attachments": {},
   "cell_type": "markdown",
   "metadata": {},
   "source": [
    "9) Imprimir los números primos existentes entre 0 y 30"
   ]
  },
  {
   "cell_type": "code",
   "execution_count": 30,
   "metadata": {},
   "outputs": [
    {
     "name": "stdout",
     "output_type": "stream",
     "text": [
      "2  Es primo\n",
      "3  Es primo\n",
      "5  Es primo\n",
      "7  Es primo\n",
      "11  Es primo\n",
      "13  Es primo\n",
      "17  Es primo\n",
      "19  Es primo\n",
      "23  Es primo\n",
      "29  Es primo\n"
     ]
    }
   ],
   "source": [
    "for numero in range(2, 31):\n",
    "    if numero <= 1:\n",
    "        print(\"0 y 1 no son numeros primos\")\n",
    "        break\n",
    "    es_primo = True\n",
    "    for divisor in range(2, int(numero ** 0.5) + 1):\n",
    "        if numero % divisor == 0:\n",
    "            es_primo = False\n",
    "            break\n",
    "    if es_primo:\n",
    "        print(numero, \" Es primo\")"
   ]
  },
  {
   "attachments": {},
   "cell_type": "markdown",
   "metadata": {},
   "source": [
    "10) ¿Se puede mejorar el proceso del punto 9? Utilizar las sentencias break y/ó continue para tal fin"
   ]
  },
  {
   "cell_type": "code",
   "execution_count": 40,
   "metadata": {},
   "outputs": [
    {
     "name": "stdout",
     "output_type": "stream",
     "text": [
      "2  Es primo\n",
      "3  Es primo\n",
      "5  Es primo\n",
      "7  Es primo\n",
      "11  Es primo\n",
      "13  Es primo\n",
      "17  Es primo\n",
      "19  Es primo\n",
      "23  Es primo\n",
      "29  Es primo\n"
     ]
    }
   ],
   "source": [
    "for numero in range(2, 31):\n",
    "    if numero <= 1:\n",
    "        print(\"0 y 1 no son numeros primos\")\n",
    "        break\n",
    "    es_primo = True\n",
    "    for divisor in range(2, int(numero ** 0.5) + 1):\n",
    "        if numero % divisor == 0:\n",
    "            es_primo = False\n",
    "            break\n",
    "    if es_primo:\n",
    "        print(numero, \" Es primo\")"
   ]
  },
  {
   "attachments": {},
   "cell_type": "markdown",
   "metadata": {},
   "source": [
    "11) En los puntos 9 y 10, se diseño un código que encuentra números primos y además se lo optimizó. ¿Es posible saber en qué medida se optimizó?"
   ]
  },
  {
   "cell_type": "code",
   "execution_count": 48,
   "metadata": {},
   "outputs": [
    {
     "name": "stdout",
     "output_type": "stream",
     "text": [
      "2  Es primo\n",
      "3  Es primo\n",
      "5  Es primo\n",
      "7  Es primo\n",
      "11  Es primo\n",
      "13  Es primo\n",
      "17  Es primo\n",
      "19  Es primo\n",
      "23  Es primo\n",
      "29  Es primo\n"
     ]
    }
   ],
   "source": [
    "for numero in range(2, 31):\n",
    "    if numero <= 1:\n",
    "        print(\"0 y 1 no son numeros primos\")\n",
    "        break\n",
    "    es_primo = True\n",
    "    for divisor in range(2, int(numero ** 0.5) + 1):\n",
    "        if numero % divisor == 0:\n",
    "            es_primo = False\n",
    "            break\n",
    "    if es_primo:\n",
    "        print(numero, \" Es primo\")"
   ]
  },
  {
   "attachments": {},
   "cell_type": "markdown",
   "metadata": {},
   "source": [
    "12) Aplicando continue, armar un ciclo while que solo imprima los valores divisibles por 12, dentro del rango de números de 100 a 300"
   ]
  },
  {
   "cell_type": "code",
   "execution_count": 47,
   "metadata": {},
   "outputs": [
    {
     "name": "stdout",
     "output_type": "stream",
     "text": [
      "108  Es dividible por 12\n",
      "120  Es dividible por 12\n",
      "132  Es dividible por 12\n",
      "144  Es dividible por 12\n",
      "156  Es dividible por 12\n",
      "168  Es dividible por 12\n",
      "180  Es dividible por 12\n",
      "192  Es dividible por 12\n",
      "204  Es dividible por 12\n",
      "216  Es dividible por 12\n",
      "228  Es dividible por 12\n",
      "240  Es dividible por 12\n",
      "252  Es dividible por 12\n",
      "264  Es dividible por 12\n",
      "276  Es dividible por 12\n",
      "288  Es dividible por 12\n",
      "300  Es dividible por 12\n"
     ]
    }
   ],
   "source": [
    "n = 100\n",
    "while n <= 300:\n",
    "    n += 1\n",
    "    if n % 12 != 0:\n",
    "        continue\n",
    "    print(n, \" Es dividible por 12\")"
   ]
  },
  {
   "attachments": {},
   "cell_type": "markdown",
   "metadata": {},
   "source": [
    "13) Utilizar la función **input()** que permite hacer ingresos por teclado, para encontrar números primos y dar la opción al usario de buscar el siguiente"
   ]
  },
  {
   "cell_type": "code",
   "execution_count": 3,
   "metadata": {},
   "outputs": [],
   "source": [
    "num = 1\n",
    "continuar = 1\n",
    "for numero in range(2, num):\n",
    "    if numero <= 1:\n",
    "        print(\"0 y 1 no son numeros primos\")\n",
    "        break\n",
    "    for divisor in range(2, int(numero ** 0.5) + 1):\n",
    "        if numero % divisor == 0:\n",
    "            es_primo = False\n",
    "            break\n",
    "    if es_primo:\n",
    "        print(numero, \" Es primo\")\n",
    "        print(\"Desea encontrar el proximo numero primo\")\n",
    "        if input() != 1:\n",
    "            print(\"Se finaliza el proceso\")\n",
    "            break\n",
    "    else:\n",
    "        es_primo = True\n",
    "        num += 1"
   ]
  },
  {
   "attachments": {},
   "cell_type": "markdown",
   "metadata": {},
   "source": [
    "14) Crear un ciclo while que encuentre dentro del rango de 100 a 300 el primer número divisible por 3 y además múltiplo de 6"
   ]
  },
  {
   "cell_type": "code",
   "execution_count": 4,
   "metadata": {},
   "outputs": [
    {
     "name": "stdout",
     "output_type": "stream",
     "text": [
      "102 Es el primer numero divisible por 3 y multiplo de 6\n"
     ]
    }
   ],
   "source": [
    "num = 99\n",
    "while num < 300:\n",
    "    if num % 3 == 0 and num % 6 == 0:\n",
    "        print(num, \"Es el primer numero divisible por 3 y multiplo de 6\")\n",
    "        break\n",
    "    num += 1\n"
   ]
  }
 ],
 "metadata": {
  "interpreter": {
   "hash": "c85384e4cb51c8b72350f3a8712cc8351fdc3955e32a27f9b60c6242ab125f01"
  },
  "kernelspec": {
   "display_name": "Python 3 (ipykernel)",
   "language": "python",
   "name": "python3"
  },
  "language_info": {
   "codemirror_mode": {
    "name": "ipython",
    "version": 3
   },
   "file_extension": ".py",
   "mimetype": "text/x-python",
   "name": "python",
   "nbconvert_exporter": "python",
   "pygments_lexer": "ipython3",
   "version": "3.11.6"
  }
 },
 "nbformat": 4,
 "nbformat_minor": 4
}
