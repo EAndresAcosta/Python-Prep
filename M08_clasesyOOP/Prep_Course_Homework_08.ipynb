{
 "cells": [
  {
   "attachments": {},
   "cell_type": "markdown",
   "metadata": {},
   "source": [
    "## Clases y Programación Orientada a Objetos"
   ]
  },
  {
   "attachments": {},
   "cell_type": "markdown",
   "metadata": {},
   "source": [
    "1) Crear la clase vehículo que contenga los atributos:<br>\n",
    "Color<br>\n",
    "Si es moto, auto, camioneta ó camión<br>\n",
    "Cilindrada del motor"
   ]
  },
  {
   "cell_type": "code",
   "execution_count": 221,
   "metadata": {},
   "outputs": [],
   "source": [
    "class Vehiculo:\n",
    "    def __init__(self, color, tipo, cilindrada):\n",
    "        self.color = color\n",
    "        self.tipo = tipo\n",
    "        self.cilindrada = cilindrada"
   ]
  },
  {
   "attachments": {},
   "cell_type": "markdown",
   "metadata": {},
   "source": [
    "2) A la clase Vehiculo creada en el punto 1, agregar los siguientes métodos:<br>\n",
    "Acelerar<br>\n",
    "Frenar<br>\n",
    "Doblar<br>"
   ]
  },
  {
   "cell_type": "code",
   "execution_count": 222,
   "metadata": {},
   "outputs": [],
   "source": [
    "class Vehiculo:\n",
    "    def __init__(self, color, tipo, cilindrada):\n",
    "        self.color = color\n",
    "        self.tipo = tipo\n",
    "        self.cilindrada = cilindrada\n",
    "        self.velocidad = 0\n",
    "        self.doblar = 0\n",
    "\n",
    "    def Acelerar(self, veloci):\n",
    "        self.velocidad += veloci\n",
    "\n",
    "    def Frenar(self, veloci):\n",
    "        self.velocidad -= veloci\n",
    "\n",
    "    def Doblar(self, grados):\n",
    "        self.doblar += grados\n",
    "    "
   ]
  },
  {
   "attachments": {},
   "cell_type": "markdown",
   "metadata": {},
   "source": [
    "3) Instanciar 3 objetos de la clase vehículo y ejecutar sus métodos, probar luego el resultado"
   ]
  },
  {
   "cell_type": "code",
   "execution_count": 223,
   "metadata": {},
   "outputs": [],
   "source": [
    "v1 = Vehiculo('Azul', 'Auto', 2.0)\n",
    "v2 = Vehiculo('Rojo', 'Moto', 999)\n",
    "v3 = Vehiculo('Negro', 'Camioneta', 3.0)"
   ]
  },
  {
   "cell_type": "code",
   "execution_count": 224,
   "metadata": {},
   "outputs": [],
   "source": [
    "v1.Acelerar(50)\n",
    "v2.Acelerar(120)\n",
    "v3.Acelerar(80)\n",
    "\n",
    "v1.Frenar(-30)\n",
    "v2.Frenar(-60)\n",
    "\n",
    "v3.Doblar(90)\n",
    "v1.Doblar(-90)"
   ]
  },
  {
   "attachments": {},
   "cell_type": "markdown",
   "metadata": {},
   "source": [
    "4) Agregar a la clase Vehiculo, un método que muestre su estado, es decir, a que velocidad se encuentra y su dirección. Y otro método que muestre color, tipo y cilindrada"
   ]
  },
  {
   "cell_type": "code",
   "execution_count": 225,
   "metadata": {},
   "outputs": [],
   "source": [
    "class Vehiculo:\n",
    "    def __init__(self, color, tipo, cilindrada):\n",
    "        self.color = color\n",
    "        self.tipo = tipo\n",
    "        self.cilindrada = cilindrada\n",
    "        self.velocidad = 0\n",
    "        self.doblar = 0\n",
    "\n",
    "    def Acelerar(self, veloci):\n",
    "        self.velocidad += veloci\n",
    "\n",
    "    def Frenar(self, veloci):\n",
    "        self.velocidad -= veloci\n",
    "\n",
    "    def Doblar(self, grados):\n",
    "        self.doblar += grados\n",
    "    \n",
    "    def Estado(self):\n",
    "        print('Velocidad:', self.velocidad, 'Direccion:', self.doblar)\n",
    "\n",
    "    def Detalle(self):\n",
    "        print('Color:', self.color, 'Tipo:', self.tipo, 'Cilindrada:', self.cilindrada)"
   ]
  },
  {
   "cell_type": "code",
   "execution_count": 226,
   "metadata": {},
   "outputs": [
    {
     "name": "stdout",
     "output_type": "stream",
     "text": [
      "Velocidad: 0 Direccion: 0\n",
      "Color: Azul Tipo: Auto Cilindrada: 2.0\n"
     ]
    }
   ],
   "source": [
    "v1 = Vehiculo('Azul', 'Auto', 2.0)\n",
    "v1.Estado()\n",
    "v1.Detalle()"
   ]
  },
  {
   "attachments": {},
   "cell_type": "markdown",
   "metadata": {},
   "source": [
    "5) Crear una clase que permita utilizar las funciones creadas en la práctica del módulo 7<br>\n",
    "Verificar Primo<br>\n",
    "Valor modal<br>\n",
    "Conversión grados<br>\n",
    "Factorial<br>"
   ]
  },
  {
   "cell_type": "code",
   "execution_count": 227,
   "metadata": {},
   "outputs": [],
   "source": [
    "class Funciones:\n",
    "    def __init__(self) -> None:\n",
    "        pass\n",
    "\n",
    "    def es_primo(self, numero):\n",
    "        num_primo = True\n",
    "        if numero <= 1:\n",
    "            return False\n",
    "        for divisor in range(2, int(numero ** 1/2) + 1):\n",
    "            if numero % divisor == 0:\n",
    "                num_primo = False\n",
    "                break\n",
    "        if num_primo:\n",
    "            return num_primo\n",
    "\n",
    "    def repeated(self, lista):\n",
    "        mas_repetido = []\n",
    "        numero_repeticiones = []\n",
    "        for numero in lista:    \n",
    "            if numero in mas_repetido:\n",
    "                i = mas_repetido.index(numero)\n",
    "                numero_repeticiones[i] += 1\n",
    "            else:\n",
    "                mas_repetido.append(numero)\n",
    "                numero_repeticiones.append(1)\n",
    "        repet = mas_repetido[0]\n",
    "        cantidad = numero_repeticiones[0]\n",
    "        for i, numero in enumerate(mas_repetido):\n",
    "            if numero_repeticiones[i] > cantidad:\n",
    "                repet = mas_repetido[i]\n",
    "                cantidad = numero_repeticiones[i]\n",
    "        return repet, cantidad\n",
    "    \n",
    "    def convertir_grados(self, valor, origen, destino):\n",
    "        if origen == \"celcius\":\n",
    "            if destino == \"celcius\":\n",
    "                valor_destino = valor\n",
    "            elif destino == \"farenheit\":\n",
    "                valor_destino = (valor * (9/5)) + 32\n",
    "            elif destino == \"kelvin\":\n",
    "                valor_destino = valor + 273.15\n",
    "            else:\n",
    "                print(\"Debe pasar un destino correcto\")\n",
    "        \n",
    "        elif origen == \"farenheit\":\n",
    "            if destino == \"celcius\":\n",
    "                valor_destino = (valor - 32) * 5 / 9\n",
    "            elif destino == \"farenheit\":\n",
    "                valor_destino = valor\n",
    "            elif destino == \"kelvin\":\n",
    "                valor_destino = ((valor - 32) * 5 / 9) + 273.15\n",
    "            else:\n",
    "                print(\"Debe pasar un destino correcto\")\n",
    "        \n",
    "        elif origen == \"kelvin\":\n",
    "            if destino == \"celcius\":\n",
    "                valor_destino = valor - 273.15\n",
    "            elif destino == \"farenheit\":\n",
    "                valor_destino = ((valor - 273.15) * 9 / 5) + 32\n",
    "            elif destino == \"kelvin\":\n",
    "                valor_destino = valor\n",
    "            else:\n",
    "                print(\"Debe pasar un destino correcto\")\n",
    "        \n",
    "        else:\n",
    "            print(\"Debe pasar un destino correcto\")\n",
    "\n",
    "        return valor_destino\n",
    "    \n",
    "    def factorial(self, numero):\n",
    "        if type(numero) != int:\n",
    "            return(\"Debe ingresar un numero entero\")\n",
    "        if numero < 0:\n",
    "            return(\"El numero debe ser positivo\")\n",
    "        if numero <= 1:\n",
    "            return 1\n",
    "        numero = numero * self.factorial(numero - 1)\n",
    "        return numero"
   ]
  },
  {
   "cell_type": "code",
   "execution_count": 228,
   "metadata": {},
   "outputs": [],
   "source": [
    "herramienta = Funciones()"
   ]
  },
  {
   "attachments": {},
   "cell_type": "markdown",
   "metadata": {},
   "source": [
    "6) Probar las funciones incorporadas en la clase del punto 5"
   ]
  },
  {
   "cell_type": "code",
   "execution_count": 229,
   "metadata": {},
   "outputs": [
    {
     "data": {
      "text/plain": [
       "True"
      ]
     },
     "execution_count": 229,
     "metadata": {},
     "output_type": "execute_result"
    }
   ],
   "source": [
    "herramienta.es_primo(7)"
   ]
  },
  {
   "cell_type": "code",
   "execution_count": 230,
   "metadata": {},
   "outputs": [
    {
     "data": {
      "text/plain": [
       "(1, 4)"
      ]
     },
     "execution_count": 230,
     "metadata": {},
     "output_type": "execute_result"
    }
   ],
   "source": [
    "herramienta.repeated([1,2,3,1,2,1,3,2,1,3])"
   ]
  },
  {
   "cell_type": "code",
   "execution_count": 231,
   "metadata": {},
   "outputs": [
    {
     "data": {
      "text/plain": [
       "-16.666666666666668"
      ]
     },
     "execution_count": 231,
     "metadata": {},
     "output_type": "execute_result"
    }
   ],
   "source": [
    "herramienta.convertir_grados(2, 'farenheit', 'celcius')"
   ]
  },
  {
   "cell_type": "code",
   "execution_count": 232,
   "metadata": {},
   "outputs": [
    {
     "data": {
      "text/plain": [
       "5040"
      ]
     },
     "execution_count": 232,
     "metadata": {},
     "output_type": "execute_result"
    }
   ],
   "source": [
    "herramienta.factorial(7)"
   ]
  },
  {
   "attachments": {},
   "cell_type": "markdown",
   "metadata": {},
   "source": [
    "7) Es necesario que la clase creada en el punto 5 contenga una lista, sobre la cual se apliquen las funciones incorporadas"
   ]
  },
  {
   "cell_type": "code",
   "execution_count": 233,
   "metadata": {},
   "outputs": [],
   "source": [
    "class Funciones:\n",
    "    def __init__(self, lista_numeros):\n",
    "        self.lista = lista_numeros\n",
    "\n",
    "    def es_primo(self):\n",
    "        for i in self.lista:\n",
    "            if self.__es_primo(i):\n",
    "                print(i, 'Es numero primo')\n",
    "            else:\n",
    "                print(i, 'No es numero primo')\n",
    "\n",
    "    def convertir_grados(self, origen, destino):\n",
    "        for i in self.lista:\n",
    "            print(i, 'Grados', origen, 'son', self.__convertir_grados(i, origen, destino), 'Grados', destino)\n",
    "\n",
    "    def factorial(self):\n",
    "        for i in self.lista:\n",
    "            print('El factorial de', i, 'es', self.__factorial(i))\n",
    "\n",
    "    def __es_primo(self, numero):\n",
    "        num_primo = True\n",
    "        if numero <= 1:\n",
    "            return False\n",
    "        for divisor in range(2, int(numero ** 1/2) + 1):\n",
    "            if numero % divisor == 0:\n",
    "                num_primo = False\n",
    "                break\n",
    "        if num_primo:\n",
    "            return num_primo\n",
    "\n",
    "    def repeated(self, menor):\n",
    "        lista_unicos = []\n",
    "        lista_repeticiones = []\n",
    "        if len(self.lista) == 0:\n",
    "            return None\n",
    "        if (menor):\n",
    "            self.lista.sort()\n",
    "        else:\n",
    "            self.lista.sort(reverse=True)\n",
    "        for elemento in self.lista:\n",
    "            if elemento in lista_unicos:\n",
    "                i = lista_unicos.index(elemento)\n",
    "                lista_repeticiones[i] += 1\n",
    "            else:\n",
    "                lista_unicos.append(elemento)\n",
    "                lista_repeticiones.append(1)\n",
    "        moda = lista_unicos[0]\n",
    "        maximo = lista_repeticiones[0]\n",
    "        for i, elemento in enumerate(lista_unicos):\n",
    "            if lista_repeticiones[i] > maximo:\n",
    "                moda = lista_unicos[i]\n",
    "                maximo = lista_repeticiones[i]\n",
    "        return moda, maximo\n",
    "    \n",
    "    def __convertir_grados(self, valor, origen, destino):\n",
    "        if origen == \"celcius\":\n",
    "            if destino == \"celcius\":\n",
    "                valor_destino = valor\n",
    "            elif destino == \"farenheit\":\n",
    "                valor_destino = (valor * (9/5)) + 32\n",
    "            elif destino == \"kelvin\":\n",
    "                valor_destino = valor + 273.15\n",
    "            else:\n",
    "                print(\"Debe pasar un destino correcto\")\n",
    "        \n",
    "        elif origen == \"farenheit\":\n",
    "            if destino == \"celcius\":\n",
    "                valor_destino = (valor - 32) * 5 / 9\n",
    "            elif destino == \"farenheit\":\n",
    "                valor_destino = valor\n",
    "            elif destino == \"kelvin\":\n",
    "                valor_destino = ((valor - 32) * 5 / 9) + 273.15\n",
    "            else:\n",
    "                print(\"Debe pasar un destino correcto\")\n",
    "        \n",
    "        elif origen == \"kelvin\":\n",
    "            if destino == \"celcius\":\n",
    "                valor_destino = valor - 273.15\n",
    "            elif destino == \"farenheit\":\n",
    "                valor_destino = ((valor - 273.15) * 9 / 5) + 32\n",
    "            elif destino == \"kelvin\":\n",
    "                valor_destino = valor\n",
    "            else:\n",
    "                print(\"Debe pasar un destino correcto\")\n",
    "        \n",
    "        else:\n",
    "            print(\"Debe pasar un destino correcto\")\n",
    "\n",
    "        return valor_destino\n",
    "    \n",
    "    def __factorial(self, numero):\n",
    "        if (type(numero) != int):\n",
    "            return(\"Debe ingresar un numero entero\")\n",
    "        if (numero < 0):\n",
    "            return(\"El numero debe ser positivo\")\n",
    "        if (numero == 1):\n",
    "            return 1\n",
    "        if (numero > 1):\n",
    "            numero = numero * self.__factorial(numero - 1)\n",
    "        return numero"
   ]
  },
  {
   "cell_type": "code",
   "execution_count": 234,
   "metadata": {},
   "outputs": [],
   "source": [
    "f = Funciones([2,3,5,4,2,3,2,5,3,2,3,2,4,2])"
   ]
  },
  {
   "cell_type": "code",
   "execution_count": 235,
   "metadata": {},
   "outputs": [
    {
     "name": "stdout",
     "output_type": "stream",
     "text": [
      "2 Es numero primo\n",
      "3 Es numero primo\n",
      "5 Es numero primo\n",
      "4 No es numero primo\n",
      "2 Es numero primo\n",
      "3 Es numero primo\n",
      "2 Es numero primo\n",
      "5 Es numero primo\n",
      "3 Es numero primo\n",
      "2 Es numero primo\n",
      "3 Es numero primo\n",
      "2 Es numero primo\n",
      "4 No es numero primo\n",
      "2 Es numero primo\n"
     ]
    }
   ],
   "source": [
    "f.es_primo()"
   ]
  },
  {
   "cell_type": "code",
   "execution_count": 236,
   "metadata": {},
   "outputs": [
    {
     "name": "stdout",
     "output_type": "stream",
     "text": [
      "2 Grados celcius son 35.6 Grados farenheit\n",
      "3 Grados celcius son 37.4 Grados farenheit\n",
      "5 Grados celcius son 41.0 Grados farenheit\n",
      "4 Grados celcius son 39.2 Grados farenheit\n",
      "2 Grados celcius son 35.6 Grados farenheit\n",
      "3 Grados celcius son 37.4 Grados farenheit\n",
      "2 Grados celcius son 35.6 Grados farenheit\n",
      "5 Grados celcius son 41.0 Grados farenheit\n",
      "3 Grados celcius son 37.4 Grados farenheit\n",
      "2 Grados celcius son 35.6 Grados farenheit\n",
      "3 Grados celcius son 37.4 Grados farenheit\n",
      "2 Grados celcius son 35.6 Grados farenheit\n",
      "4 Grados celcius son 39.2 Grados farenheit\n",
      "2 Grados celcius son 35.6 Grados farenheit\n"
     ]
    }
   ],
   "source": [
    "f.convertir_grados('celcius', 'farenheit')"
   ]
  },
  {
   "cell_type": "code",
   "execution_count": 237,
   "metadata": {},
   "outputs": [
    {
     "name": "stdout",
     "output_type": "stream",
     "text": [
      "El valor modal es 2 y se repite 6\n"
     ]
    }
   ],
   "source": [
    "moda, repe = f.repeated(False)\n",
    "print('El valor modal es', moda, 'y se repite', repe)"
   ]
  },
  {
   "cell_type": "code",
   "execution_count": 238,
   "metadata": {},
   "outputs": [
    {
     "name": "stdout",
     "output_type": "stream",
     "text": [
      "El factorial de 5 es 120\n",
      "El factorial de 5 es 120\n",
      "El factorial de 4 es 24\n",
      "El factorial de 4 es 24\n",
      "El factorial de 3 es 6\n",
      "El factorial de 3 es 6\n",
      "El factorial de 3 es 6\n",
      "El factorial de 3 es 6\n",
      "El factorial de 2 es 2\n",
      "El factorial de 2 es 2\n",
      "El factorial de 2 es 2\n",
      "El factorial de 2 es 2\n",
      "El factorial de 2 es 2\n",
      "El factorial de 2 es 2\n"
     ]
    }
   ],
   "source": [
    "f.factorial()"
   ]
  },
  {
   "attachments": {},
   "cell_type": "markdown",
   "metadata": {},
   "source": [
    "8) Crear un archivo .py aparte y ubicar allí la clase generada en el punto anterior. Luego realizar la importación del módulo y probar alguna de sus funciones"
   ]
  },
  {
   "cell_type": "code",
   "execution_count": 239,
   "metadata": {},
   "outputs": [],
   "source": [
    "from herramientas import *"
   ]
  },
  {
   "cell_type": "code",
   "execution_count": 240,
   "metadata": {},
   "outputs": [],
   "source": [
    "f2 = Herramientas([5,6,8,9,11,15,17,19])"
   ]
  },
  {
   "cell_type": "code",
   "execution_count": 241,
   "metadata": {},
   "outputs": [
    {
     "name": "stdout",
     "output_type": "stream",
     "text": [
      "El elemento 5 SI es un numero primo\n",
      "El elemento 6 NO es un numero primo\n",
      "El elemento 8 NO es un numero primo\n",
      "El elemento 9 NO es un numero primo\n",
      "El elemento 11 SI es un numero primo\n",
      "El elemento 15 NO es un numero primo\n",
      "El elemento 17 SI es un numero primo\n",
      "El elemento 19 SI es un numero primo\n"
     ]
    }
   ],
   "source": [
    "f2.verifica_primo()"
   ]
  }
 ],
 "metadata": {
  "interpreter": {
   "hash": "c85384e4cb51c8b72350f3a8712cc8351fdc3955e32a27f9b60c6242ab125f01"
  },
  "kernelspec": {
   "display_name": "Python 3 (ipykernel)",
   "language": "python",
   "name": "python3"
  },
  "language_info": {
   "codemirror_mode": {
    "name": "ipython",
    "version": 3
   },
   "file_extension": ".py",
   "mimetype": "text/x-python",
   "name": "python",
   "nbconvert_exporter": "python",
   "pygments_lexer": "ipython3",
   "version": "3.11.6"
  }
 },
 "nbformat": 4,
 "nbformat_minor": 4
}
